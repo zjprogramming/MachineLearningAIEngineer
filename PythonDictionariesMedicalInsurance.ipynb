{
 "cells": [
  {
   "cell_type": "markdown",
   "id": "a6280a0a",
   "metadata": {},
   "source": [
    "# Python Dictionaries: Medical Insurance Project"
   ]
  },
  {
   "cell_type": "markdown",
   "id": "629a6cae",
   "metadata": {},
   "source": [
    "You have been asked to create a program that organizes and updates medical records efficiently.\n",
    "\n",
    "In this project, you will use your new knowledge of Python dictionaries to create a database of medical records for patients.\n",
    "\n",
    "Let's get started!"
   ]
  },
  {
   "cell_type": "markdown",
   "id": "a225dbd9",
   "metadata": {},
   "source": [
    "## Storing Patient Names and Insurance Costs"
   ]
  },
  {
   "cell_type": "markdown",
   "id": "c68043fb",
   "metadata": {},
   "source": [
    "1. We would like to keep a record of medical patients and their insurance costs.\n",
    "\n",
    "   First, create an empty dictionary called `medical_costs`."
   ]
  },
  {
   "cell_type": "code",
   "execution_count": 1,
   "id": "bbe3a250",
   "metadata": {},
   "outputs": [],
   "source": [
    "medical_costs = {}"
   ]
  },
  {
   "cell_type": "markdown",
   "id": "c9bc147f",
   "metadata": {},
   "source": [
    "2. Let's populate our `medical_costs` dictionary by adding the following key-value pairs:\n",
    "   - Add `\"Marina\"` to `medical_costs` as a key with a value of `6607.0`.\n",
    "   - Add `\"Vinay\"` to `medical_costs` as a key with a value of `3225.0`."
   ]
  },
  {
   "cell_type": "code",
   "execution_count": 2,
   "id": "c2a6ab26",
   "metadata": {},
   "outputs": [],
   "source": [
    "medical_costs[\"Marina\"] = 6607.0\n",
    "medical_costs[\"Vinay\"] = 3225.0"
   ]
  },
  {
   "cell_type": "markdown",
   "id": "f536e024",
   "metadata": {},
   "source": [
    "3. Using one line of code, add the following three patients to the `medical_costs` dictionary:\n",
    "   - `\"Connie\"`, with an insurance cost of `8886.0`.\n",
    "   - `\"Isaac\"`, with an insurance cost of `16444.0`.\n",
    "   - `\"Valentina\"`, with an insurance cost of `6420.0`."
   ]
  },
  {
   "cell_type": "code",
   "execution_count": 3,
   "id": "1d7cc36a",
   "metadata": {},
   "outputs": [],
   "source": [
    "medical_costs.update({\"Connie\": 8886.0, \"Isaac\": 16444.0, \"Valentina\": 6420.0})"
   ]
  },
  {
   "cell_type": "markdown",
   "id": "4d9de5a6",
   "metadata": {},
   "source": [
    "4. Print `medical_costs`. Make sure the dictionary is what you expected."
   ]
  },
  {
   "cell_type": "code",
   "execution_count": 4,
   "id": "ae3378b6",
   "metadata": {},
   "outputs": [
    {
     "name": "stdout",
     "output_type": "stream",
     "text": [
      "{'Marina': 6607.0, 'Vinay': 3225.0, 'Connie': 8886.0, 'Isaac': 16444.0, 'Valentina': 6420.0}\n"
     ]
    }
   ],
   "source": [
    "print(medical_costs)"
   ]
  },
  {
   "cell_type": "markdown",
   "id": "d8177341",
   "metadata": {},
   "source": [
    "5. You notice that `Vinay`'s insurance cost was incorrectly inputted. Update the value associated with `Vinay` to `3325.0`.\n",
    "\n",
    "   Print the updated dictionary."
   ]
  },
  {
   "cell_type": "code",
   "execution_count": 5,
   "id": "3303939e",
   "metadata": {},
   "outputs": [
    {
     "name": "stdout",
     "output_type": "stream",
     "text": [
      "{'Marina': 6607.0, 'Vinay': 3325.0, 'Connie': 8886.0, 'Isaac': 16444.0, 'Valentina': 6420.0}\n"
     ]
    }
   ],
   "source": [
    "medical_costs[\"Vinay\"] = 3325.0\n",
    "print(medical_costs)"
   ]
  },
  {
   "cell_type": "markdown",
   "id": "eb3b1ad0",
   "metadata": {},
   "source": [
    "6. Let's calculate the average medical cost of each patient. Create a variable called `total_cost` and set it equal to 0.\n",
    "\n",
    "   Next, iterate through the values in `medical_costs` and add each value to the `total_cost` variable."
   ]
  },
  {
   "cell_type": "code",
   "execution_count": 6,
   "id": "dd0a0c5a",
   "metadata": {},
   "outputs": [],
   "source": [
    "total_cost = 0\n",
    "for cost in medical_costs.values():\n",
    "    total_cost += cost"
   ]
  },
  {
   "cell_type": "markdown",
   "id": "f1cc5915",
   "metadata": {},
   "source": [
    "7. After the loop, create a variable called `average_cost` that stores the `total_cost` divided by the length of the `medical_costs` dictionary.\n",
    "\n",
    "   Print `average_cost` with the following message:\n",
    "   \n",
    "   ```\n",
    "   Average Insurance Cost: {average_cost}\n",
    "   ```"
   ]
  },
  {
   "cell_type": "code",
   "execution_count": 7,
   "id": "36c7f1e6",
   "metadata": {},
   "outputs": [
    {
     "name": "stdout",
     "output_type": "stream",
     "text": [
      "Average Insurance Cost: 8336.4\n"
     ]
    }
   ],
   "source": [
    "average_cost = total_cost/len(medical_costs)\n",
    "print(\"Average Insurance Cost: \" + str(average_cost))"
   ]
  },
  {
   "cell_type": "markdown",
   "id": "5522bebc",
   "metadata": {},
   "source": [
    "## List Comprehension to Dictionary"
   ]
  },
  {
   "cell_type": "markdown",
   "id": "89fc1f66",
   "metadata": {},
   "source": [
    "8. You have been asked to create a second dictionary that maps patient names to their ages.\n",
    "\n",
    "   First, create two lists called `names` and `ages` with the following data:\n",
    "   \n",
    "   names | ages\n",
    "   --- | ---\n",
    "   Marina | 27\n",
    "   Vinay | 24\n",
    "   Connie | 43\n",
    "   Isaac | 35\n",
    "   Valentina | 52"
   ]
  },
  {
   "cell_type": "code",
   "execution_count": 8,
   "id": "c29dfa70",
   "metadata": {},
   "outputs": [],
   "source": [
    "names = [\"Marina\", \"Vinay\", \"Connie\", \"Isaac\", \"Valentina\"]\n",
    "ages = [27, 24, 43, 35, 52]"
   ]
  },
  {
   "cell_type": "markdown",
   "id": "3c5a6b1a",
   "metadata": {},
   "source": [
    "9. Next, create a variable called `zipped_ages` that is a zipped list of pairs between the `names` list and the `ages` list."
   ]
  },
  {
   "cell_type": "code",
   "execution_count": 9,
   "id": "86b0ecfb",
   "metadata": {},
   "outputs": [],
   "source": [
    "zipped_ages = zip(names, ages)"
   ]
  },
  {
   "cell_type": "markdown",
   "id": "06620837",
   "metadata": {},
   "source": [
    "10. Create a dictionary called `names_to_ages` by using a list comprehension that iterates through `zipped_ages` and turns each pair into a key : value item.\n",
    "\n",
    "    Print `names_to_ages` to see the result."
   ]
  },
  {
   "cell_type": "code",
   "execution_count": 10,
   "id": "db0b538c",
   "metadata": {},
   "outputs": [
    {
     "name": "stdout",
     "output_type": "stream",
     "text": [
      "{'Marina': 27, 'Vinay': 24, 'Connie': 43, 'Isaac': 35, 'Valentina': 52}\n"
     ]
    }
   ],
   "source": [
    "names_to_ages = {key: value for key, value in zipped_ages}\n",
    "print(names_to_ages)"
   ]
  },
  {
   "cell_type": "markdown",
   "id": "38a3cf30",
   "metadata": {},
   "source": [
    "11. Use `.get()` to get the value of Marina's age and store it in a variable called `marina_age`. Use `None` as a default value if the key doesn't exist.\n",
    "\n",
    "    Print `marina_age` with the following message:\n",
    "    \n",
    "    ```\n",
    "    Marina's age is {marina_age}\n",
    "    ```"
   ]
  },
  {
   "cell_type": "code",
   "execution_count": 11,
   "id": "80410f47",
   "metadata": {},
   "outputs": [
    {
     "name": "stdout",
     "output_type": "stream",
     "text": [
      "Marina's age is 27\n"
     ]
    }
   ],
   "source": [
    "marina_age = names_to_ages.get(\"Marina\", None)\n",
    "print(\"Marina's age is \" + str(marina_age))"
   ]
  },
  {
   "cell_type": "markdown",
   "id": "1c749f46",
   "metadata": {},
   "source": [
    "## Using a Dictionary to Create a Medical Database"
   ]
  },
  {
   "cell_type": "markdown",
   "id": "0052804a",
   "metadata": {},
   "source": [
    "12. Let's create a third dictionary to represent a database of medical records that contains information such as a patient's name, age, sex, gender, BMI, number of children, smoker status, and insurance cost.\n",
    "\n",
    "    First, create an empty dictionary called `medical_records`."
   ]
  },
  {
   "cell_type": "code",
   "execution_count": 12,
   "id": "7aa1e7c5",
   "metadata": {},
   "outputs": [],
   "source": [
    "medical_records = {}"
   ]
  },
  {
   "cell_type": "markdown",
   "id": "f3c43cd8",
   "metadata": {},
   "source": [
    "13. Next, add `\"Marina\"` to `medical_records` as a key with the value being a dictionary of medical data:\n",
    "\n",
    "    ```py\n",
    "    {\"Age\": 27, \"Sex\": \"Female\", \"BMI\": 31.1, \"Children\": 2, \"Smoker\": \"Non-smoker\", \"Insurance_cost\": 6607.0}\n",
    "    ```"
   ]
  },
  {
   "cell_type": "code",
   "execution_count": 13,
   "id": "4146482b",
   "metadata": {},
   "outputs": [],
   "source": [
    "medical_records[\"Marina\"] = {\"Age\": 27, \"Sex\": \"Female\", \"BMI\": 31.1, \"Children\": 2, \"Smoker\": \"Non-smoker\", \"Insurance_cost\": 6607.0}"
   ]
  },
  {
   "cell_type": "markdown",
   "id": "b798c349",
   "metadata": {},
   "source": [
    "14. Do the same for the following individuals:\n",
    "    \n",
    "    Name | Age | Sex | BMI | Children | Smoker | Insurance Cost\n",
    "    --- | --- | --- | --- | --- | --- | ---\n",
    "    Vinay | 24 | Male | 26.9 | 0 | Non-smoker | 3225.0\n",
    "    Connie | 43 | Female | 25.3 | 3 | Non-smoker | 8886.0\n",
    "    Isaac | 35 | Male | 20.6 | 4 | Smoker | 16444.0\n",
    "    Valentina | 52 | Female | 18.7 | 1 | Non-smoker | 6420.0"
   ]
  },
  {
   "cell_type": "code",
   "execution_count": 14,
   "id": "8ca5b619",
   "metadata": {},
   "outputs": [],
   "source": [
    "medical_records[\"Vinay\"] = {\"Age\": 24, \"Sex\": \"Male\", \"BMI\": 26.9, \"Children\": 0, \"Smoker\": \"Non-smoker\", \"Insurance_cost\": 3225.0}\n",
    "medical_records[\"Connie\"] = {\"Age\": 43, \"Sex\": \"Female\", \"BMI\": 25.3, \"Children\": 3, \"Smoker\": \"Non-smoker\", \"Insurance_cost\": 8886.0}\n",
    "medical_records[\"Isaac\"] = {\"Age\": 35, \"Sex\": \"Male\", \"BMI\": 20.6, \"Children\": 4, \"Smoker\": \"Smoker\", \"Insurance_cost\": 16444.0}\n",
    "medical_records[\"Valentina\"] = {\"Age\": 52, \"Sex\": \"Female\", \"BMI\": 18.7, \"Children\": 1, \"Smoker\": \"Non-smoker\", \"Insurance_cost\": 6420.0}"
   ]
  },
  {
   "cell_type": "markdown",
   "id": "06991086",
   "metadata": {},
   "source": [
    "15. Print `medical_records` to see the result."
   ]
  },
  {
   "cell_type": "code",
   "execution_count": 15,
   "id": "ca4c18e5",
   "metadata": {},
   "outputs": [
    {
     "name": "stdout",
     "output_type": "stream",
     "text": [
      "{'Marina': {'Age': 27, 'Sex': 'Female', 'BMI': 31.1, 'Children': 2, 'Smoker': 'Non-smoker', 'Insurance_cost': 6607.0}, 'Vinay': {'Age': 24, 'Sex': 'Male', 'BMI': 26.9, 'Children': 0, 'Smoker': 'Non-smoker', 'Insurance_cost': 3225.0}, 'Connie': {'Age': 43, 'Sex': 'Female', 'BMI': 25.3, 'Children': 3, 'Smoker': 'Non-smoker', 'Insurance_cost': 8886.0}, 'Isaac': {'Age': 35, 'Sex': 'Male', 'BMI': 20.6, 'Children': 4, 'Smoker': 'Smoker', 'Insurance_cost': 16444.0}, 'Valentina': {'Age': 52, 'Sex': 'Female', 'BMI': 18.7, 'Children': 1, 'Smoker': 'Non-smoker', 'Insurance_cost': 6420.0}}\n"
     ]
    }
   ],
   "source": [
    "print(medical_records)"
   ]
  },
  {
   "cell_type": "markdown",
   "id": "2fe30c4c",
   "metadata": {},
   "source": [
    "16. The `medical_records` dictionary acts like a database of medical records. Let's access a specific piece of data in `medical_records`.\n",
    "\n",
    "    Print out `Connie`'s insurance cost with the following message:\n",
    "    \n",
    "    ```\n",
    "    Connie's insurance cost is X dollars.\n",
    "    ```"
   ]
  },
  {
   "cell_type": "code",
   "execution_count": 16,
   "id": "5e5d4866",
   "metadata": {},
   "outputs": [
    {
     "name": "stdout",
     "output_type": "stream",
     "text": [
      "Connie's insurance cost is 8886.0 dollars.\n"
     ]
    }
   ],
   "source": [
    "print(\"Connie's insurance cost is \" + str(medical_records[\"Connie\"][\"Insurance_cost\"]) + \" dollars.\")"
   ]
  },
  {
   "cell_type": "markdown",
   "id": "5b09ef41",
   "metadata": {},
   "source": [
    "17. `Vinay` has moved to a new country, and we no longer want to include him in our medical records.\n",
    "\n",
    "    Remove `Vinay` from `medical_records`."
   ]
  },
  {
   "cell_type": "code",
   "execution_count": 17,
   "id": "e1d3d6eb",
   "metadata": {},
   "outputs": [
    {
     "data": {
      "text/plain": [
       "{'Age': 24,\n",
       " 'Sex': 'Male',\n",
       " 'BMI': 26.9,\n",
       " 'Children': 0,\n",
       " 'Smoker': 'Non-smoker',\n",
       " 'Insurance_cost': 3225.0}"
      ]
     },
     "execution_count": 17,
     "metadata": {},
     "output_type": "execute_result"
    }
   ],
   "source": [
    "medical_records.pop(\"Vinay\")"
   ]
  },
  {
   "cell_type": "markdown",
   "id": "5ccc1791",
   "metadata": {},
   "source": [
    "18. Let's take a closer look at each patient's medical record.\n",
    "\n",
    "    Use a `for` loop to iterate through the items of `medical_records`. For each key-value pair, print out a string that looks like the following:\n",
    "    \n",
    "    ```\n",
    "    {Name} is a {Age} year old {Sex} {Smoker} with a BMI of {BMI} and insurance cost of {Insurance_cost}\n",
    "    ```"
   ]
  },
  {
   "cell_type": "code",
   "execution_count": 18,
   "id": "de85a00b",
   "metadata": {},
   "outputs": [
    {
     "name": "stdout",
     "output_type": "stream",
     "text": [
      "Marina is a 27 year old Female Non-smoker with a BMI of 31.1 and insurance cost of 6607.0\n",
      "Connie is a 43 year old Female Non-smoker with a BMI of 25.3 and insurance cost of 8886.0\n",
      "Isaac is a 35 year old Male Smoker with a BMI of 20.6 and insurance cost of 16444.0\n",
      "Valentina is a 52 year old Female Non-smoker with a BMI of 18.7 and insurance cost of 6420.0\n"
     ]
    }
   ],
   "source": [
    "for name, record in medical_records.items():\n",
    "    print(name + \" is a \" + str(record[\"Age\"]) + \\\n",
    "          \" year old \" + record[\"Sex\"] + \" \" + record[\"Smoker\"] \\\n",
    "         + \" with a BMI of \" + str(record[\"BMI\"]) + \\\n",
    "         \" and insurance cost of \" + str(record[\"Insurance_cost\"]))"
   ]
  },
  {
   "cell_type": "markdown",
   "id": "f8edfe52",
   "metadata": {},
   "source": [
    "## Extra"
   ]
  },
  {
   "cell_type": "markdown",
   "id": "baea0aba",
   "metadata": {},
   "source": [
    "19. Congratulations! In this project, you used Python dictionaries to store and update medical data for individuals.\n",
    "\n",
    "    If you'd like extra practice with dictionaries, here are some suggestions to go further with this project:\n",
    "    - Create a function called `update_medical_records()` that takes in the name of an individual as well as their medical data, and then updates the `medical_records` dictionary accordingly.\n",
    "    - Create a new dictionary of your choice - feel free to get creative!\n",
    "    \n",
    "    Happy coding!"
   ]
  },
  {
   "cell_type": "code",
   "execution_count": 19,
   "id": "fa65aff6",
   "metadata": {},
   "outputs": [
    {
     "name": "stdout",
     "output_type": "stream",
     "text": [
      "{'Marina': {'Age': 27, 'Sex': 'Female', 'BMI': 31.1, 'Children': 2, 'Smoker': 'Non-smoker', 'Insurance_cost': 6607.0}, 'Connie': {'Age': 43, 'Sex': 'Female', 'BMI': 25.3, 'Children': 3, 'Smoker': 'Non-smoker', 'Insurance_cost': 8886.0}, 'Isaac': {'Age': 35, 'Sex': 'Male', 'BMI': 20.6, 'Children': 4, 'Smoker': 'Smoker', 'Insurance_cost': 16444.0}, 'Valentina': {'Age': 52, 'Sex': 'Female', 'BMI': 18.7, 'Children': 1, 'Smoker': 'Non-smoker', 'Insurance_cost': 6420.0}, 'Sarah': {'Age': 32, 'Sex': 'female', 'BMI': 22.2, 'Children': 3, 'Smoker': 'Non-smoker', 'Insurance_cost': 3000.0}}\n",
      "{'Marina': {'Age': 27, 'Sex': 'Female', 'BMI': 31.1, 'Children': 2, 'Smoker': 'Non-smoker', 'Insurance_cost': 6607.0, 'STD Test': 'yes'}, 'Connie': {'Age': 43, 'Sex': 'Female', 'BMI': 25.3, 'Children': 3, 'Smoker': 'Non-smoker', 'Insurance_cost': 8886.0, 'STD Test': 'no'}, 'Isaac': {'Age': 35, 'Sex': 'Male', 'BMI': 20.6, 'Children': 4, 'Smoker': 'Smoker', 'Insurance_cost': 16444.0, 'STD Test': 'yes'}, 'Valentina': {'Age': 52, 'Sex': 'Female', 'BMI': 18.7, 'Children': 1, 'Smoker': 'Non-smoker', 'Insurance_cost': 6420.0, 'STD Test': 'yes'}, 'Sarah': {'Age': 32, 'Sex': 'female', 'BMI': 22.2, 'Children': 3, 'Smoker': 'Non-smoker', 'Insurance_cost': 3000.0, 'STD Test': 'no'}}\n"
     ]
    }
   ],
   "source": [
    "def update_medical_record(name, age, sex, bmi, children, smoker, insurance_cost):\n",
    "  medical_records[name] = {'Age': age, 'Sex': sex, 'BMI': bmi, 'Children': children, 'Smoker': smoker, 'Insurance_cost': insurance_cost}\n",
    "\n",
    "update_medical_record('Sarah', 32, 'female', 22.2, 3, 'Non-smoker', 3000.0)\n",
    "\n",
    "print(medical_records)\n",
    "\n",
    "std_test_records = {}\n",
    "\n",
    "std_test_records['Marina'] = {'STD Test': 'yes'}\n",
    "std_test_records['Connie'] = {'STD Test': 'no'}\n",
    "std_test_records['Isaac'] = {'STD Test': 'yes'}\n",
    "std_test_records['Valentina'] = {'STD Test': 'yes'}\n",
    "std_test_records['Sarah'] = {'STD Test': 'no'}\n",
    "\n",
    "for name, record in list(medical_records.items()):\n",
    "  medical_records[name].update(std_test_records[name])\n",
    "\n",
    "print(medical_records)"
   ]
  },
  {
   "cell_type": "code",
   "execution_count": null,
   "id": "5a3dd407",
   "metadata": {},
   "outputs": [],
   "source": []
  }
 ],
 "metadata": {
  "kernelspec": {
   "display_name": "Python 3 (ipykernel)",
   "language": "python",
   "name": "python3"
  },
  "language_info": {
   "codemirror_mode": {
    "name": "ipython",
    "version": 3
   },
   "file_extension": ".py",
   "mimetype": "text/x-python",
   "name": "python",
   "nbconvert_exporter": "python",
   "pygments_lexer": "ipython3",
   "version": "3.9.7"
  }
 },
 "nbformat": 4,
 "nbformat_minor": 5
}
